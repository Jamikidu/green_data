{
 "cells": [
  {
   "cell_type": "markdown",
   "id": "020a6545",
   "metadata": {},
   "source": [
    "## 로또 당첨 번호 가져오기"
   ]
  },
  {
   "cell_type": "code",
   "execution_count": 17,
   "id": "5e6b1719",
   "metadata": {},
   "outputs": [
    {
     "name": "stdout",
     "output_type": "stream",
     "text": [
      "당첨번호\n",
      "['6', '11', '16', '19', '21', '32']\n",
      "보너스번호\n",
      "45\n"
     ]
    }
   ],
   "source": [
    "import requests\n",
    "from bs4 import BeautifulSoup\n",
    "\n",
    "num = 1066\n",
    "url = \"https://www.dhlottery.co.kr/gameResult.do?method=byWin&drwNo={}\".format(num)\n",
    "response = requests.get(url)\n",
    "# print(response.text)\n",
    "\n",
    "soup = BeautifulSoup(response.text, \"html.parser\")\n",
    "win_result = soup.select_one('div.win_result')  #태그이름,클래스이름\n",
    "# win_result.text  # '\\n'을 확인함\n",
    "win_list = win_result.text.split('\\n') \n",
    "win_list\n",
    "win_list = win_result.text.split('\\n')[7:13]\n",
    "win_list\n",
    "bonus_num = win_result.text.split('\\n')[-4]\n",
    "bonus_num\n",
    "print('당첨번호')\n",
    "print(win_list)\n",
    "print('보너스번호')\n",
    "print(bonus_num)"
   ]
  },
  {
   "cell_type": "markdown",
   "id": "7315edb5",
   "metadata": {},
   "source": [
    "# 로또 당첨 번호 앱 제작"
   ]
  },
  {
   "cell_type": "code",
   "execution_count": 51,
   "id": "a8a14859",
   "metadata": {},
   "outputs": [],
   "source": [
    "import requests\n",
    "from bs4 import BeautifulSoup\n",
    "from tkinter import *\n",
    "\n",
    "def lotto_win():\n",
    "    # num = 1066\n",
    "    num = entry.get()  #입력박스에 입력된 값\n",
    "    url = \"https://www.dhlottery.co.kr/gameResult.do?method=byWin&drwNo={}\".format(num)\n",
    "    response = requests.get(url)\n",
    "    # print(response.text)\n",
    "\n",
    "    soup = BeautifulSoup(response.text, \"html.parser\")\n",
    "    win_result = soup.select_one('div.win_result')  #태그이름,클래스이름\n",
    "    # win_result.text  # '\\n'을 확인함\n",
    "    win_list = win_result.text.split('\\n') \n",
    "    win_list\n",
    "    win_list = win_result.text.split('\\n')[7:13]\n",
    "    win_list\n",
    "    bonus_num = win_result.text.split('\\n')[-4]\n",
    "    bonus_num\n",
    "    \n",
    "    # 출력상자에 번호 출력\n",
    "    output.delete(0.0, END)  #첫행 첫문자 위치에서 시작\n",
    "    output.insert(END, f'당첨번호: {win_list}\\n\\n보너스: {bonus_num}')\n",
    "    \n",
    "    \"\"\"\n",
    "    print('당첨번호')\n",
    "    print(win_list)\n",
    "    print('보너스번호')\n",
    "    print(bonus_num)\n",
    "    \"\"\"\n",
    "\n",
    "# lotto_win()\n",
    "window = Tk()\n",
    "window.title(\"로또 당첨 확인\")\n",
    "\n",
    "Label(window, text=\"당첨 회차 입력: \").grid(row=0, column=0, sticky=W)\n",
    "# 입력 상자\n",
    "entry = Entry(window, bg=\"yellow\")\n",
    "entry.grid(row=1, column=0, sticky=W)\n",
    "\n",
    "btn = Button(window, text=\"당첨 번호 확인\", command=lotto_win)\n",
    "btn.grid(row=2, column=0, sticky=W)\n",
    "# 출력 상자\n",
    "output = Text(window, bg='lightblue', width=50, height=5)\n",
    "output.grid(row=3, column=0, sticky=W)\n",
    "\n",
    "\n",
    "window.mainloop()"
   ]
  },
  {
   "cell_type": "code",
   "execution_count": null,
   "id": "e35de424",
   "metadata": {},
   "outputs": [],
   "source": []
  },
  {
   "cell_type": "code",
   "execution_count": null,
   "id": "cabbf1a5",
   "metadata": {},
   "outputs": [],
   "source": []
  },
  {
   "cell_type": "code",
   "execution_count": null,
   "id": "3f0b5154",
   "metadata": {},
   "outputs": [],
   "source": []
  }
 ],
 "metadata": {
  "kernelspec": {
   "display_name": "Python 3 (ipykernel)",
   "language": "python",
   "name": "python3"
  },
  "language_info": {
   "codemirror_mode": {
    "name": "ipython",
    "version": 3
   },
   "file_extension": ".py",
   "mimetype": "text/x-python",
   "name": "python",
   "nbconvert_exporter": "python",
   "pygments_lexer": "ipython3",
   "version": "3.10.9"
  }
 },
 "nbformat": 4,
 "nbformat_minor": 5
}
