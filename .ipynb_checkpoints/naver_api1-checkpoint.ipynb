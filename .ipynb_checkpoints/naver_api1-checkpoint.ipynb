{
 "cells": [
  {
   "cell_type": "code",
   "execution_count": 7,
   "id": "cd400da3",
   "metadata": {},
   "outputs": [
    {
     "name": "stdout",
     "output_type": "stream",
     "text": [
      "200\n",
      "<class 'http.client.HTTPResponse'>\n"
     ]
    },
    {
     "data": {
      "text/plain": [
       "'{\\n\\t\"lastBuildDate\":\"Fri, 12 May 2023 16:04:33 +0900\",\\n\\t\"total\":43682967,\\n\\t\"start\":1,\\n\\t\"display\":10,\\n\\t\"items\":[\\n\\t\\t{\\n\\t\\t\\t\"title\":\"하노이 하롱베이 투어 <b>날씨<\\\\/b> 100점 !\",\\n\\t\\t\\t\"link\":\"https:\\\\/\\\\/blog.naver.com\\\\/hjhpiglet\\\\/223097691649\",\\n\\t\\t\\t\"description\":\"제가 다녀온 베트남 하노이의 5월 <b>날씨<\\\\/b>는 스콜성 기후로 하루종일 비가 내리기보다는 예고없이 갑자기 비가 주륵 내리다 그치기를 반복하는 그런 <b>날씨<\\\\/b>였습니다. 그래도 하롱베이 <b>날씨<\\\\/b>는 좋다는 이야기를... \",\\n\\t\\t\\t\"bloggername\":\"Michelle&apos;s House\",\\n\\t\\t\\t\"bloggerlink\":\"blog.naver.com\\\\/hjhpiglet\",\\n\\t\\t\\t\"postdate\":\"20230509\"\\n\\t\\t},\\n\\t\\t{\\n\\t\\t\\t\"title\":\"괌 5월 <b>날씨<\\\\/b> 사이판 6월 기온 정보 옷차림+포켓 와이파이 도시락\",\\n\\t\\t\\t\"link\":\"https:\\\\/\\\\/blog.naver.com\\\\/dongi0508\\\\/223096252943\",\\n\\t\\t\\t\"description\":\"괌 5월 <b>날씨<\\\\/b> 사이판 6월 기온 정보 옷차림+포켓 와이파이 도시락 최근에 다녀왔었던 북마리아나 제도.... 이번 글을 통해 내가 직접 다녀와본 사이판 <b>날씨<\\\\/b>를 비롯해 이웃의 괌까지도 일자별 온도를 체크해보도록... \",\\n\\t\\t\\t\"bloggername\":\"Der Sinn des Lebens\",\\n\\t\\t\\t\"bloggerlink\":\"blog.naver.com\\\\/dongi0508\",\\n\\t\\t\\t\"postdate\":\"20230509\"\\n\\t\\t},\\n\\t\\t{\\n\\t\\t\\t\"title\":\"[일본 자유여행] 1일차 오사카<b>날씨<\\\\/b> 공항 호텔\",\\n\\t\\t\\t\"link\":\"https:\\\\/\\\\/blog.naver.com\\\\/lingfei0212\\\\/223098869765\",\\n\\t\\t\\t\"description\":\"저번주까진 태풍같은 <b>날씨<\\\\/b>와 폭우가 몰아치던 제주도인데 이번주는 <b>날씨<\\\\/b> 너무 좋아요. 오사카<b>날씨<\\\\/b>도 비슷하더라고요. 참고로 이번주 오사카<b>날씨<\\\\/b>는 이렇습니다. 온도는 딱 좋고 구름이 좀 있네요. 주말엔 비가 올... \",\\n\\t\\t\\t\"bloggername\":\"임비&apos;s 숲향기같은 제주여행\",\\n\\t\\t\\t\"bloggerlink\":\"blog.naver.com\\\\/lingfei0212\",\\n\\t\\t\\t\"postdate\":\"20230511\"\\n\\t\\t},\\n\\t\\t{\\n\\t\\t\\t\"title\":\"베트남 하롱베이 럭셔리 크루즈 하노이 여행 <b>날씨<\\\\/b> 당일 투어 후기\",\\n\\t\\t\\t\"link\":\"https:\\\\/\\\\/blog.naver.com\\\\/pinkyluv83\\\\/223099271200\",\\n\\t\\t\\t\"description\":\"첫 번째 가장 큰 이유는 바로 5월 초 하노이 <b>날씨<\\\\/b> 때문이었는데요. 제가 하노이 여행했던 3박 4일 중... 5월 하노이 평균 기온이 낮 기온은 약 30도 저녁 기온은 약 25도로 여행하기 좋은 <b>날씨<\\\\/b>라는데 제가 여행하는... \",\\n\\t\\t\\t\"bloggername\":\"Kimi의 여행일기\",\\n\\t\\t\\t\"bloggerlink\":\"blog.naver.com\\\\/pinkyluv83\",\\n\\t\\t\\t\"postdate\":\"20230511\"\\n\\t\\t},\\n\\t\\t{\\n\\t\\t\\t\"title\":\"미국 샌프란시스코 골프 여행 실시간 5월 <b>날씨<\\\\/b> 옷차림\",\\n\\t\\t\\t\"link\":\"https:\\\\/\\\\/blog.naver.com\\\\/trueloveu\\\\/223099652777\",\\n\\t\\t\\t\"description\":\"놀랍게도 이 모든 옷을 다 가져가길 잘 했다는 생각이 들었고 잘 활용중이라 기온에 따라 여행 5월 <b>날씨<\\\\/b> 옷차림, 치안은 어떤지도 정리해보려고 한다. 5월 미국여행 <b>날씨<\\\\/b>, 골프여행 간다면 경량패딩 필수 위의... \",\\n\\t\\t\\t\"bloggername\":\"티아라여행, T r a v e l o g u e\",\\n\\t\\t\\t\"bloggerlink\":\"blog.naver.com\\\\/trueloveu\",\\n\\t\\t\\t\"postdate\":\"20230511\"\\n\\t\\t},\\n\\t\\t{\\n\\t\\t\\t\"title\":\"필리핀 세부 호핑투어 뜻 깊은 선상파티 세부 <b>날씨<\\\\/b>\",\\n\\t\\t\\t\"link\":\"https:\\\\/\\\\/blog.naver.com\\\\/hnmh2332\\\\/223096145647\",\\n\\t\\t\\t\"description\":\"필리핀 세부 호핑투어 뜻 깊은 선상파티 세부 <b>날씨<\\\\/b> 글&amp;사진 : 초록바다 최양훈 \\\\/ 여행일 : 2023년 3월 5일... 세부 <b>날씨<\\\\/b>가 좋아 즐거운 여행이 되었다. 세부 호핑투어 선상파티 더마크크루즈 주소 : The Mark Resort PH... \",\\n\\t\\t\\t\"bloggername\":\"♥️초록바다의 감성여행\",\\n\\t\\t\\t\"bloggerlink\":\"blog.naver.com\\\\/hnmh2332\",\\n\\t\\t\\t\"postdate\":\"20230508\"\\n\\t\\t},\\n\\t\\t{\\n\\t\\t\\t\"title\":\"홋카이도 삿포로, 비에이 여행 프롤로그, 5월 <b>날씨<\\\\/b>, 벚꽃 현황\",\\n\\t\\t\\t\"link\":\"https:\\\\/\\\\/blog.naver.com\\\\/dmgk32\\\\/223097578904\",\\n\\t\\t\\t\"description\":\"홋카이도 삿포로, 비에이 여행 프롤로그, 5월 <b>날씨<\\\\/b>, 벚꽃 현황 삿포로, 비에이 여행, 5월 <b>날씨<\\\\/b>와 벚꽃 현황 홋카이도 여행 4일간의 홋카이도 여행을 마치고 어제 돌아왔어요. 매우 넓은 섬이다 보니 자연, 음식... \",\\n\\t\\t\\t\"bloggername\":\"@유징유\",\\n\\t\\t\\t\"bloggerlink\":\"blog.naver.com\\\\/dmgk32\",\\n\\t\\t\\t\"postdate\":\"20230509\"\\n\\t\\t},\\n\\t\\t{\\n\\t\\t\\t\"title\":\"5월 부산 세계비건기후행진, 우리가 먹는것이 곧 지구의 <b>날씨<\\\\/b>\",\\n\\t\\t\\t\"link\":\"https:\\\\/\\\\/blog.naver.com\\\\/sil1848\\\\/223096021936\",\\n\\t\\t\\t\"description\":\"모두 모두 수고 많으셨고 정말 멋집니다 우리가 먹는 것이 곧 지구의 <b>날씨<\\\\/b> 부산 세계비건기후 행진... 당연했지만 걱정이 되었다...하지만 잘할거라는 믿음은 컸다 <b>날씨<\\\\/b>도 춥다 걱정이 앞섰다. 행사당일... \",\\n\\t\\t\\t\"bloggername\":\"건강하고 안전한 비건라이프\",\\n\\t\\t\\t\"bloggerlink\":\"blog.naver.com\\\\/sil1848\",\\n\\t\\t\\t\"postdate\":\"20230508\"\\n\\t\\t},\\n\\t\\t{\\n\\t\\t\\t\"title\":\"태국 골프여행 파타야 7 - 8월 <b>날씨<\\\\/b>와 투어\",\\n\\t\\t\\t\"link\":\"https:\\\\/\\\\/blog.naver.com\\\\/duohai\\\\/223100057602\",\\n\\t\\t\\t\"description\":\"요즘 국내 <b>날씨<\\\\/b> 너무 좋죠? 라운딩하기 최적의 시기인것 같습니다. 저도 최근에 여러번 국내 라운딩을 다녀왔는데 <b>날씨<\\\\/b>하나만큼은 정말 좋은것 같아요. 하지만 골프장 상태는 그다지 좋지가 않죠. 3부까지... \",\\n\\t\\t\\t\"bloggername\":\"즐거운 라운딩! 멋진샷!\",\\n\\t\\t\\t\"bloggerlink\":\"blog.naver.com\\\\/duohai\",\\n\\t\\t\\t\"postdate\":\"20230512\"\\n\\t\\t},\\n\\t\\t{\\n\\t\\t\\t\"title\":\"포항 <b>날씨<\\\\/b> 좋은날 호미곶 바다뷰 카페 어스피스\",\\n\\t\\t\\t\"link\":\"https:\\\\/\\\\/blog.naver.com\\\\/namnaraum\\\\/223097645413\",\\n\\t\\t\\t\"description\":\"포항 <b>날씨<\\\\/b> 좋은날 호미곶 바다뷰 카페 어스피스 <b>날씨<\\\\/b>가 좋을 때면 바닷가 카페로 슝~ 하고 순간 이동하고픈 맘이 든다. 오늘이 딱 그런 날인데, 며칠 동안 궂은 <b>날씨<\\\\/b>였다가 이제 화창하게 갠 봄날을 마주하니... \",\\n\\t\\t\\t\"bloggername\":\"남다른 남나르\",\\n\\t\\t\\t\"bloggerlink\":\"blog.naver.com\\\\/namnaraum\",\\n\\t\\t\\t\"postdate\":\"20230509\"\\n\\t\\t}\\n\\t]\\n}'"
      ]
     },
     "execution_count": 7,
     "metadata": {},
     "output_type": "execute_result"
    }
   ],
   "source": [
    "import urllib.request\n",
    "\n",
    "# 네이버API 서비스(ID/비번) 등록\n",
    "client_id = \"xQ9s_lBVfpWulFnKVxvG\"\n",
    "client_secret = \"llmGX6blcU\"\n",
    "\n",
    "encText = urllib.request.quote(\"날씨\")\n",
    "# print(encText)\n",
    "url = \"https://openapi.naver.com/v1/search/blog.json?query=\" + encText\n",
    "# print(url)\n",
    "\n",
    "# 요청\n",
    "request = urllib.request.Request(url)  #url주소를 요청(호출)\n",
    "request.add_header(\"X-Naver-Client-Id\", client_id)  #header로 id/비번 보내줌\n",
    "request.add_header(\"X-Naver-Client-Secret\", client_secret)\n",
    "\n",
    "# 응답\n",
    "response = urllib.request.urlopen(request)  #request.get(url) -> 유사함\n",
    "print(response.getcode())  # 상태 코드 가져옴 200, 404\n",
    "print(type(response))\n",
    "response.read().decode('utf-8')"
   ]
  },
  {
   "cell_type": "markdown",
   "id": "2a87ce8d",
   "metadata": {},
   "source": [
    "### 도서 검색\n",
    "\n",
    "#### https://openapi.naver.com/v1/search/book.json"
   ]
  },
  {
   "cell_type": "code",
   "execution_count": 12,
   "id": "398a2f95",
   "metadata": {},
   "outputs": [
    {
     "name": "stdout",
     "output_type": "stream",
     "text": [
      "{'lastBuildDate': 'Fri, 12 May 2023 16:17:21 +0900', 'total': 43684163, 'start': 1, 'display': 10, 'items': [{'title': '하노이 하롱베이 투어 <b>날씨</b> 100점 !', 'link': 'https://blog.naver.com/hjhpiglet/223097691649', 'description': '제가 다녀온 베트남 하노이의 5월 <b>날씨</b>는 스콜성 기후로 하루종일 비가 내리기보다는 예고없이 갑자기 비가 주륵 내리다 그치기를 반복하는 그런 <b>날씨</b>였습니다. 그래도 하롱베이 <b>날씨</b>는 좋다는 이야기를... ', 'bloggername': 'Michelle&apos;s House', 'bloggerlink': 'blog.naver.com/hjhpiglet', 'postdate': '20230509'}, {'title': '괌 5월 <b>날씨</b> 사이판 6월 기온 정보 옷차림+포켓 와이파이 도시락', 'link': 'https://blog.naver.com/dongi0508/223096252943', 'description': '괌 5월 <b>날씨</b> 사이판 6월 기온 정보 옷차림+포켓 와이파이 도시락 최근에 다녀왔었던 북마리아나 제도.... 이번 글을 통해 내가 직접 다녀와본 사이판 <b>날씨</b>를 비롯해 이웃의 괌까지도 일자별 온도를 체크해보도록... ', 'bloggername': 'Der Sinn des Lebens', 'bloggerlink': 'blog.naver.com/dongi0508', 'postdate': '20230509'}, {'title': '[일본 자유여행] 1일차 오사카<b>날씨</b> 공항 호텔', 'link': 'https://blog.naver.com/lingfei0212/223098869765', 'description': '저번주까진 태풍같은 <b>날씨</b>와 폭우가 몰아치던 제주도인데 이번주는 <b>날씨</b> 너무 좋아요. 오사카<b>날씨</b>도 비슷하더라고요. 참고로 이번주 오사카<b>날씨</b>는 이렇습니다. 온도는 딱 좋고 구름이 좀 있네요. 주말엔 비가 올... ', 'bloggername': '임비&apos;s 숲향기같은 제주여행', 'bloggerlink': 'blog.naver.com/lingfei0212', 'postdate': '20230511'}, {'title': '베트남 하롱베이 럭셔리 크루즈 하노이 여행 <b>날씨</b> 당일 투어 후기', 'link': 'https://blog.naver.com/pinkyluv83/223099271200', 'description': '첫 번째 가장 큰 이유는 바로 5월 초 하노이 <b>날씨</b> 때문이었는데요. 제가 하노이 여행했던 3박 4일 중... 5월 하노이 평균 기온이 낮 기온은 약 30도 저녁 기온은 약 25도로 여행하기 좋은 <b>날씨</b>라는데 제가 여행하는... ', 'bloggername': 'Kimi의 여행일기', 'bloggerlink': 'blog.naver.com/pinkyluv83', 'postdate': '20230511'}, {'title': '미국 샌프란시스코 골프 여행 실시간 5월 <b>날씨</b> 옷차림', 'link': 'https://blog.naver.com/trueloveu/223099652777', 'description': '놀랍게도 이 모든 옷을 다 가져가길 잘 했다는 생각이 들었고 잘 활용중이라 기온에 따라 여행 5월 <b>날씨</b> 옷차림, 치안은 어떤지도 정리해보려고 한다. 5월 미국여행 <b>날씨</b>, 골프여행 간다면 경량패딩 필수 위의... ', 'bloggername': '티아라여행, T r a v e l o g u e', 'bloggerlink': 'blog.naver.com/trueloveu', 'postdate': '20230511'}, {'title': '필리핀 세부 호핑투어 뜻 깊은 선상파티 세부 <b>날씨</b>', 'link': 'https://blog.naver.com/hnmh2332/223096145647', 'description': '필리핀 세부 호핑투어 뜻 깊은 선상파티 세부 <b>날씨</b> 글&amp;사진 : 초록바다 최양훈 / 여행일 : 2023년 3월 5일... 세부 <b>날씨</b>가 좋아 즐거운 여행이 되었다. 세부 호핑투어 선상파티 더마크크루즈 주소 : The Mark Resort PH... ', 'bloggername': '♥️초록바다의 감성여행', 'bloggerlink': 'blog.naver.com/hnmh2332', 'postdate': '20230508'}, {'title': '홋카이도 삿포로, 비에이 여행 프롤로그, 5월 <b>날씨</b>, 벚꽃 현황', 'link': 'https://blog.naver.com/dmgk32/223097578904', 'description': '홋카이도 삿포로, 비에이 여행 프롤로그, 5월 <b>날씨</b>, 벚꽃 현황 삿포로, 비에이 여행, 5월 <b>날씨</b>와 벚꽃 현황 홋카이도 여행 4일간의 홋카이도 여행을 마치고 어제 돌아왔어요. 매우 넓은 섬이다 보니 자연, 음식... ', 'bloggername': '@유징유', 'bloggerlink': 'blog.naver.com/dmgk32', 'postdate': '20230509'}, {'title': '5월 부산 세계비건기후행진, 우리가 먹는것이 곧 지구의 <b>날씨</b>', 'link': 'https://blog.naver.com/sil1848/223096021936', 'description': '모두 모두 수고 많으셨고 정말 멋집니다 우리가 먹는 것이 곧 지구의 <b>날씨</b> 부산 세계비건기후 행진... 당연했지만 걱정이 되었다...하지만 잘할거라는 믿음은 컸다 <b>날씨</b>도 춥다 걱정이 앞섰다. 행사당일... ', 'bloggername': '건강하고 안전한 비건라이프', 'bloggerlink': 'blog.naver.com/sil1848', 'postdate': '20230508'}, {'title': '태국 골프여행 파타야 7 - 8월 <b>날씨</b>와 투어', 'link': 'https://blog.naver.com/duohai/223100057602', 'description': '요즘 국내 <b>날씨</b> 너무 좋죠? 라운딩하기 최적의 시기인것 같습니다. 저도 최근에 여러번 국내 라운딩을 다녀왔는데 <b>날씨</b>하나만큼은 정말 좋은것 같아요. 하지만 골프장 상태는 그다지 좋지가 않죠. 3부까지... ', 'bloggername': '즐거운 라운딩! 멋진샷!', 'bloggerlink': 'blog.naver.com/duohai', 'postdate': '20230512'}, {'title': '포항 <b>날씨</b> 좋은날 호미곶 바다뷰 카페 어스피스', 'link': 'https://blog.naver.com/namnaraum/223097645413', 'description': '포항 <b>날씨</b> 좋은날 호미곶 바다뷰 카페 어스피스 <b>날씨</b>가 좋을 때면 바닷가 카페로 슝~ 하고 순간 이동하고픈 맘이 든다. 오늘이 딱 그런 날인데, 며칠 동안 궂은 <b>날씨</b>였다가 이제 화창하게 갠 봄날을 마주하니... ', 'bloggername': '남다른 남나르', 'bloggerlink': 'blog.naver.com/namnaraum', 'postdate': '20230509'}]}\n"
     ]
    }
   ],
   "source": [
    "import urllib.request\n",
    "import json\n",
    "\n",
    "def create_url(api_node, search_text, start_num, disp_num):\n",
    "    base = \"https://openapi.naver.com/v1/search\"\n",
    "    node = \"/\" + api_node + \".json\"\n",
    "    param_query = \"?query=\" + urllib.parse.quote(search_text)\n",
    "    param_start = \"&start=\" + str(start_num)\n",
    "    param_disp = \"&display\" + str(disp_num)\n",
    "    \n",
    "    return base + node + param_query + param_start + param_disp\n",
    "\n",
    "# create_url('book', 'test', 1, 5)\n",
    "\n",
    "# 네이버API 서비스(ID/비번) 등록\n",
    "client_id = \"xQ9s_lBVfpWulFnKVxvG\"\n",
    "client_secret = \"llmGX6blcU\"\n",
    "\n",
    "create_url('book', '파이썬', 1, 5)\n",
    "\n",
    "\n",
    "# 요청\n",
    "request = urllib.request.Request(url)  #url주소를 요청(호출)\n",
    "request.add_header(\"X-Naver-Client-Id\", client_id)  #header로 id/비번 보내줌\n",
    "request.add_header(\"X-Naver-Client-Secret\", client_secret)\n",
    "\n",
    "# 응답\n",
    "response = urllib.request.urlopen(request)  #request.get(url) -> 유사함\n",
    "result = json.loads(response.read().decode('utf-8'))\n",
    "print(result)"
   ]
  },
  {
   "cell_type": "code",
   "execution_count": null,
   "id": "73f97114",
   "metadata": {},
   "outputs": [],
   "source": []
  }
 ],
 "metadata": {
  "kernelspec": {
   "display_name": "Python 3 (ipykernel)",
   "language": "python",
   "name": "python3"
  },
  "language_info": {
   "codemirror_mode": {
    "name": "ipython",
    "version": 3
   },
   "file_extension": ".py",
   "mimetype": "text/x-python",
   "name": "python",
   "nbconvert_exporter": "python",
   "pygments_lexer": "ipython3",
   "version": "3.10.9"
  }
 },
 "nbformat": 4,
 "nbformat_minor": 5
}
